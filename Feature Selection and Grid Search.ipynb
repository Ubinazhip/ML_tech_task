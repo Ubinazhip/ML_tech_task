{
 "cells": [
  {
   "cell_type": "code",
   "execution_count": 1,
   "id": "fd759c24",
   "metadata": {
    "ExecuteTime": {
     "end_time": "2023-02-07T14:22:14.385929Z",
     "start_time": "2023-02-07T14:22:13.607005Z"
    }
   },
   "outputs": [],
   "source": [
    "import pandas as pd\n",
    "import matplotlib.pyplot as plt\n",
    "from sklearn.feature_selection import VarianceThreshold\n",
    "from sklearn.preprocessing import OneHotEncoder\n",
    "import pickle\n",
    "\n",
    "from sklearn.preprocessing import StandardScaler\n",
    "from sklearn.model_selection import train_test_split\n",
    "import warnings\n",
    "warnings.filterwarnings(\"ignore\")\n",
    "from feature_selection import FeatureSelection "
   ]
  },
  {
   "cell_type": "code",
   "execution_count": 23,
   "id": "c3b864dc",
   "metadata": {
    "ExecuteTime": {
     "end_time": "2023-02-07T07:24:46.429829Z",
     "start_time": "2023-02-07T07:24:46.427109Z"
    }
   },
   "outputs": [],
   "source": [
    "class Config:\n",
    "    test_size = 0.2\n",
    "    seed = 20\n",
    "    nan_threshold = 50#cols with more than 50% nan entries will be deleted  \n",
    "    corr_tresh = 0.8"
   ]
  },
  {
   "cell_type": "code",
   "execution_count": 41,
   "id": "5cc0eb6e",
   "metadata": {
    "ExecuteTime": {
     "end_time": "2023-02-07T09:28:21.729015Z",
     "start_time": "2023-02-07T09:28:20.798162Z"
    }
   },
   "outputs": [
    {
     "data": {
      "text/plain": [
       "((20138, 416), (10000, 415))"
      ]
     },
     "execution_count": 41,
     "metadata": {},
     "output_type": "execute_result"
    }
   ],
   "source": [
    "df = pd.read_csv('TECH_TASK_TRAIN.csv')\n",
    "test = pd.read_csv('TECH_TASK_TEST.csv', index_col=[0])\n",
    "\n",
    "\n",
    "df.shape, test.shape"
   ]
  },
  {
   "cell_type": "code",
   "execution_count": 25,
   "id": "fc1370b6",
   "metadata": {
    "ExecuteTime": {
     "end_time": "2023-02-07T07:24:48.167810Z",
     "start_time": "2023-02-07T07:24:48.153662Z"
    }
   },
   "outputs": [
    {
     "data": {
      "text/html": [
       "<div>\n",
       "<style scoped>\n",
       "    .dataframe tbody tr th:only-of-type {\n",
       "        vertical-align: middle;\n",
       "    }\n",
       "\n",
       "    .dataframe tbody tr th {\n",
       "        vertical-align: top;\n",
       "    }\n",
       "\n",
       "    .dataframe thead th {\n",
       "        text-align: right;\n",
       "    }\n",
       "</style>\n",
       "<table border=\"1\" class=\"dataframe\">\n",
       "  <thead>\n",
       "    <tr style=\"text-align: right;\">\n",
       "      <th></th>\n",
       "      <th>ID</th>\n",
       "      <th>FEATURE_1</th>\n",
       "      <th>FEATURE_2</th>\n",
       "      <th>FEATURE_3</th>\n",
       "      <th>FEATURE_4</th>\n",
       "      <th>FEATURE_5</th>\n",
       "      <th>FEATURE_6</th>\n",
       "      <th>FEATURE_7</th>\n",
       "      <th>FEATURE_8</th>\n",
       "      <th>FEATURE_9</th>\n",
       "      <th>...</th>\n",
       "      <th>FEATURE_405</th>\n",
       "      <th>FEATURE_406</th>\n",
       "      <th>FEATURE_407</th>\n",
       "      <th>FEATURE_408</th>\n",
       "      <th>FEATURE_409</th>\n",
       "      <th>FEATURE_410</th>\n",
       "      <th>FEATURE_411</th>\n",
       "      <th>FEATURE_412</th>\n",
       "      <th>FEATURE_413</th>\n",
       "      <th>FEATURE_414</th>\n",
       "    </tr>\n",
       "  </thead>\n",
       "  <tbody>\n",
       "    <tr>\n",
       "      <th>0</th>\n",
       "      <td>1-35972079318</td>\n",
       "      <td>0.022489</td>\n",
       "      <td>0.294317</td>\n",
       "      <td>0.000000</td>\n",
       "      <td>4.997912</td>\n",
       "      <td>0.000000</td>\n",
       "      <td>11.187358</td>\n",
       "      <td>0.0</td>\n",
       "      <td>0.0</td>\n",
       "      <td>0.0</td>\n",
       "      <td>...</td>\n",
       "      <td>NaN</td>\n",
       "      <td>NaN</td>\n",
       "      <td>NaN</td>\n",
       "      <td>NaN</td>\n",
       "      <td>-1.0</td>\n",
       "      <td>-1.0</td>\n",
       "      <td>NaN</td>\n",
       "      <td>-1.0</td>\n",
       "      <td>NaN</td>\n",
       "      <td>NaN</td>\n",
       "    </tr>\n",
       "    <tr>\n",
       "      <th>1</th>\n",
       "      <td>1-34716644135</td>\n",
       "      <td>2.829745</td>\n",
       "      <td>5.947975</td>\n",
       "      <td>0.000097</td>\n",
       "      <td>26.258384</td>\n",
       "      <td>0.004262</td>\n",
       "      <td>4.896823</td>\n",
       "      <td>0.0</td>\n",
       "      <td>0.0</td>\n",
       "      <td>0.0</td>\n",
       "      <td>...</td>\n",
       "      <td>NaN</td>\n",
       "      <td>NaN</td>\n",
       "      <td>755.636204</td>\n",
       "      <td>755.636204</td>\n",
       "      <td>-1.0</td>\n",
       "      <td>-1.0</td>\n",
       "      <td>NaN</td>\n",
       "      <td>-1.0</td>\n",
       "      <td>NaN</td>\n",
       "      <td>NaN</td>\n",
       "    </tr>\n",
       "    <tr>\n",
       "      <th>2</th>\n",
       "      <td>1-35386843231</td>\n",
       "      <td>0.142518</td>\n",
       "      <td>0.175110</td>\n",
       "      <td>0.000019</td>\n",
       "      <td>0.706647</td>\n",
       "      <td>0.063928</td>\n",
       "      <td>2.647362</td>\n",
       "      <td>0.0</td>\n",
       "      <td>0.0</td>\n",
       "      <td>0.0</td>\n",
       "      <td>...</td>\n",
       "      <td>NaN</td>\n",
       "      <td>NaN</td>\n",
       "      <td>0.000000</td>\n",
       "      <td>0.000000</td>\n",
       "      <td>-1.0</td>\n",
       "      <td>-1.0</td>\n",
       "      <td>NaN</td>\n",
       "      <td>-1.0</td>\n",
       "      <td>NaN</td>\n",
       "      <td>NaN</td>\n",
       "    </tr>\n",
       "  </tbody>\n",
       "</table>\n",
       "<p>3 rows × 415 columns</p>\n",
       "</div>"
      ],
      "text/plain": [
       "              ID  FEATURE_1  FEATURE_2  FEATURE_3  FEATURE_4  FEATURE_5  \\\n",
       "0  1-35972079318   0.022489   0.294317   0.000000   4.997912   0.000000   \n",
       "1  1-34716644135   2.829745   5.947975   0.000097  26.258384   0.004262   \n",
       "2  1-35386843231   0.142518   0.175110   0.000019   0.706647   0.063928   \n",
       "\n",
       "   FEATURE_6  FEATURE_7  FEATURE_8  FEATURE_9  ...  FEATURE_405  FEATURE_406  \\\n",
       "0  11.187358        0.0        0.0        0.0  ...          NaN          NaN   \n",
       "1   4.896823        0.0        0.0        0.0  ...          NaN          NaN   \n",
       "2   2.647362        0.0        0.0        0.0  ...          NaN          NaN   \n",
       "\n",
       "   FEATURE_407  FEATURE_408  FEATURE_409  FEATURE_410  FEATURE_411  \\\n",
       "0          NaN          NaN         -1.0         -1.0          NaN   \n",
       "1   755.636204   755.636204         -1.0         -1.0          NaN   \n",
       "2     0.000000     0.000000         -1.0         -1.0          NaN   \n",
       "\n",
       "   FEATURE_412  FEATURE_413  FEATURE_414  \n",
       "0         -1.0          NaN          NaN  \n",
       "1         -1.0          NaN          NaN  \n",
       "2         -1.0          NaN          NaN  \n",
       "\n",
       "[3 rows x 415 columns]"
      ]
     },
     "execution_count": 25,
     "metadata": {},
     "output_type": "execute_result"
    }
   ],
   "source": [
    "test.head(3)"
   ]
  },
  {
   "cell_type": "code",
   "execution_count": null,
   "id": "372bbba6",
   "metadata": {},
   "outputs": [],
   "source": []
  },
  {
   "cell_type": "markdown",
   "id": "e01d3531",
   "metadata": {},
   "source": [
    "# Huge class imbalance"
   ]
  },
  {
   "cell_type": "code",
   "execution_count": 26,
   "id": "e4b4233c",
   "metadata": {
    "ExecuteTime": {
     "end_time": "2023-02-07T07:24:50.250560Z",
     "start_time": "2023-02-07T07:24:50.243615Z"
    }
   },
   "outputs": [
    {
     "data": {
      "text/plain": [
       "0    20000\n",
       "1      138\n",
       "Name: TARGET, dtype: int64"
      ]
     },
     "execution_count": 26,
     "metadata": {},
     "output_type": "execute_result"
    }
   ],
   "source": [
    "df['TARGET'].value_counts()"
   ]
  },
  {
   "cell_type": "code",
   "execution_count": 27,
   "id": "4265f2e0",
   "metadata": {
    "ExecuteTime": {
     "end_time": "2023-02-07T07:24:50.809642Z",
     "start_time": "2023-02-07T07:24:50.765170Z"
    }
   },
   "outputs": [],
   "source": [
    "df_target_id = df[['TARGET', 'ID']]\n",
    "df = df[[i for i in df.columns if i != 'TARGET' and i != 'ID']]"
   ]
  },
  {
   "cell_type": "markdown",
   "id": "c8b24028",
   "metadata": {},
   "source": [
    "# Dtypes"
   ]
  },
  {
   "cell_type": "code",
   "execution_count": 28,
   "id": "a2a33f09",
   "metadata": {
    "ExecuteTime": {
     "end_time": "2023-02-07T07:24:51.563611Z",
     "start_time": "2023-02-07T07:24:51.556630Z"
    }
   },
   "outputs": [
    {
     "data": {
      "text/plain": [
       "float64    373\n",
       "int64       30\n",
       "object      11\n",
       "dtype: int64"
      ]
     },
     "execution_count": 28,
     "metadata": {},
     "output_type": "execute_result"
    }
   ],
   "source": [
    "df.dtypes.value_counts()"
   ]
  },
  {
   "cell_type": "markdown",
   "id": "f6d9ffdb",
   "metadata": {},
   "source": [
    "# Nan Values"
   ]
  },
  {
   "cell_type": "code",
   "execution_count": 32,
   "id": "8b375af5",
   "metadata": {
    "ExecuteTime": {
     "end_time": "2023-02-07T07:25:11.164052Z",
     "start_time": "2023-02-07T07:25:11.073892Z"
    }
   },
   "outputs": [
    {
     "data": {
      "text/html": [
       "<div>\n",
       "<style scoped>\n",
       "    .dataframe tbody tr th:only-of-type {\n",
       "        vertical-align: middle;\n",
       "    }\n",
       "\n",
       "    .dataframe tbody tr th {\n",
       "        vertical-align: top;\n",
       "    }\n",
       "\n",
       "    .dataframe thead th {\n",
       "        text-align: right;\n",
       "    }\n",
       "</style>\n",
       "<table border=\"1\" class=\"dataframe\">\n",
       "  <thead>\n",
       "    <tr style=\"text-align: right;\">\n",
       "      <th></th>\n",
       "      <th>column_name</th>\n",
       "      <th>nan_percent</th>\n",
       "    </tr>\n",
       "  </thead>\n",
       "  <tbody>\n",
       "    <tr>\n",
       "      <th>0</th>\n",
       "      <td>FEATURE_1</td>\n",
       "      <td>0.153938</td>\n",
       "    </tr>\n",
       "    <tr>\n",
       "      <th>1</th>\n",
       "      <td>FEATURE_2</td>\n",
       "      <td>0.153938</td>\n",
       "    </tr>\n",
       "    <tr>\n",
       "      <th>2</th>\n",
       "      <td>FEATURE_3</td>\n",
       "      <td>0.153938</td>\n",
       "    </tr>\n",
       "    <tr>\n",
       "      <th>3</th>\n",
       "      <td>FEATURE_4</td>\n",
       "      <td>0.153938</td>\n",
       "    </tr>\n",
       "    <tr>\n",
       "      <th>4</th>\n",
       "      <td>FEATURE_5</td>\n",
       "      <td>0.153938</td>\n",
       "    </tr>\n",
       "  </tbody>\n",
       "</table>\n",
       "</div>"
      ],
      "text/plain": [
       "  column_name  nan_percent\n",
       "0   FEATURE_1     0.153938\n",
       "1   FEATURE_2     0.153938\n",
       "2   FEATURE_3     0.153938\n",
       "3   FEATURE_4     0.153938\n",
       "4   FEATURE_5     0.153938"
      ]
     },
     "execution_count": 32,
     "metadata": {},
     "output_type": "execute_result"
    }
   ],
   "source": [
    "def get_nan_percent(df):\n",
    "    columns = list(df.columns)\n",
    "    num_rows = df.shape[0]\n",
    "    nan_list = []\n",
    "    for col in columns:\n",
    "        nan_percent = df[col].isna().sum()\n",
    "        nan_list.append((nan_percent/num_rows)*100)\n",
    "    df_nan_count = pd.DataFrame(list(zip(columns, nan_list)), columns =['column_name', 'nan_percent'])\n",
    "    return df_nan_count\n",
    "\n",
    "df_nan_count = get_nan_percent(df)\n",
    "df_nan_count.head()"
   ]
  },
  {
   "cell_type": "code",
   "execution_count": 33,
   "id": "60b8edf1",
   "metadata": {
    "ExecuteTime": {
     "end_time": "2023-02-07T07:25:12.550122Z",
     "start_time": "2023-02-07T07:25:12.537829Z"
    }
   },
   "outputs": [],
   "source": [
    "thresholds = [i for i in range(30, 110, 10)]\n",
    "nan_percentage = []\n",
    "for threshold in thresholds:\n",
    "    nans = df_nan_count.loc[df_nan_count.nan_percent >= threshold].shape[0]\n",
    "    nan_percentage.append(nans)"
   ]
  },
  {
   "cell_type": "code",
   "execution_count": 34,
   "id": "783d867a",
   "metadata": {
    "ExecuteTime": {
     "end_time": "2023-02-07T07:25:14.282354Z",
     "start_time": "2023-02-07T07:25:14.135450Z"
    }
   },
   "outputs": [
    {
     "data": {
      "image/png": "[encoded data removed]",
      "text/plain": [
       "<Figure size 720x360 with 1 Axes>"
      ]
     },
     "metadata": {
      "needs_background": "light"
     },
     "output_type": "display_data"
    }
   ],
   "source": [
    "fig = plt.figure(figsize = (10, 5))\n",
    "ax = fig.add_axes([0,0,1,1])\n",
    "ax.bar(thresholds,nan_percentage, color =['orange', 'blue', 'green', 'red', 'brown', 'gray', 'maroon'], width = 5)\n",
    "\n",
    "plt.xlabel(\"threshold - percentage of nan values in a given columns\")\n",
    "plt.ylabel(\"number of columns\")\n",
    "plt.title(\"threshold vs number of columns\")\n",
    "\n",
    "\n",
    "plt.show()"
   ]
  },
  {
   "cell_type": "markdown",
   "id": "36c44e84",
   "metadata": {},
   "source": [
    "lots of columns, where more than 50% of entries are missing, 111 columns has no entries at all, I will delete the columns with 30 or more percent of data are nans"
   ]
  },
  {
   "cell_type": "code",
   "execution_count": 35,
   "id": "ee672469",
   "metadata": {
    "ExecuteTime": {
     "end_time": "2023-02-07T07:25:16.011785Z",
     "start_time": "2023-02-07T07:25:16.004211Z"
    }
   },
   "outputs": [],
   "source": [
    "def get_blacklist_nanpercent(df_nan_count, threshold=50):\n",
    "    blacklist = df_nan_count.loc[df_nan_count.nan_percent >= threshold].column_name.tolist()\n",
    "    print(f'length blacklist {len(blacklist)}')\n",
    "    return blacklist"
   ]
  },
  {
   "cell_type": "code",
   "execution_count": 36,
   "id": "4040f210",
   "metadata": {
    "ExecuteTime": {
     "end_time": "2023-02-07T07:25:17.867205Z",
     "start_time": "2023-02-07T07:25:17.853114Z"
    }
   },
   "outputs": [
    {
     "name": "stdout",
     "output_type": "stream",
     "text": [
      "length blacklist 164\n"
     ]
    }
   ],
   "source": [
    "blacklist = get_blacklist_nanpercent(df_nan_count, threshold=Config.nan_threshold)"
   ]
  },
  {
   "cell_type": "code",
   "execution_count": 37,
   "id": "3f1d4e5b",
   "metadata": {
    "ExecuteTime": {
     "end_time": "2023-02-07T07:25:18.411653Z",
     "start_time": "2023-02-07T07:25:18.406863Z"
    }
   },
   "outputs": [],
   "source": [
    "def remove_cols(df, blacklist):\n",
    "    df = df[[i for i in df.columns if i not in blacklist]]\n",
    "    return df"
   ]
  },
  {
   "cell_type": "code",
   "execution_count": 38,
   "id": "aa226eef",
   "metadata": {
    "ExecuteTime": {
     "end_time": "2023-02-07T07:25:18.974196Z",
     "start_time": "2023-02-07T07:25:18.955935Z"
    }
   },
   "outputs": [],
   "source": [
    "df = remove_cols(df, blacklist)"
   ]
  },
  {
   "cell_type": "code",
   "execution_count": 39,
   "id": "acd88be8",
   "metadata": {
    "ExecuteTime": {
     "end_time": "2023-02-07T07:25:19.501877Z",
     "start_time": "2023-02-07T07:25:19.484827Z"
    }
   },
   "outputs": [
    {
     "data": {
      "text/plain": [
       "float64    213\n",
       "int64       30\n",
       "object       7\n",
       "dtype: int64"
      ]
     },
     "execution_count": 39,
     "metadata": {},
     "output_type": "execute_result"
    }
   ],
   "source": [
    "df.dtypes.value_counts()"
   ]
  },
  {
   "cell_type": "markdown",
   "id": "029b66e8",
   "metadata": {},
   "source": [
    "# Only one unique value in the column\n",
    "remove constant columns since it does not give any information for the model"
   ]
  },
  {
   "cell_type": "code",
   "execution_count": 40,
   "id": "8ffcbd32",
   "metadata": {
    "ExecuteTime": {
     "end_time": "2023-02-07T07:25:21.332543Z",
     "start_time": "2023-02-07T07:25:21.324691Z"
    }
   },
   "outputs": [],
   "source": [
    "def get_constant_cols(df):\n",
    "    one_unique = []\n",
    "    for col in df.columns:\n",
    "        unique_values = df[col].value_counts().shape[0]\n",
    "        if unique_values == 1:\n",
    "            one_unique.append(col)\n",
    "    return one_unique"
   ]
  },
  {
   "cell_type": "code",
   "execution_count": 41,
   "id": "cbf12bdb",
   "metadata": {
    "ExecuteTime": {
     "end_time": "2023-02-07T07:25:22.082628Z",
     "start_time": "2023-02-07T07:25:21.885279Z"
    }
   },
   "outputs": [
    {
     "name": "stdout",
     "output_type": "stream",
     "text": [
      "number of columns with only 1 unique value 20\n"
     ]
    }
   ],
   "source": [
    "one_unique = get_constant_cols(df)\n",
    "print(f'number of columns with only 1 unique value {len(one_unique)}')"
   ]
  },
  {
   "cell_type": "markdown",
   "id": "92b23931",
   "metadata": {},
   "source": [
    "### Example of constant column"
   ]
  },
  {
   "cell_type": "code",
   "execution_count": 42,
   "id": "a0115033",
   "metadata": {
    "ExecuteTime": {
     "end_time": "2023-02-07T07:25:22.669277Z",
     "start_time": "2023-02-07T07:25:22.653066Z"
    }
   },
   "outputs": [
    {
     "data": {
      "text/plain": [
       "100000    20138\n",
       "Name: FEATURE_25, dtype: int64"
      ]
     },
     "execution_count": 42,
     "metadata": {},
     "output_type": "execute_result"
    }
   ],
   "source": [
    "df[one_unique[0]].value_counts()"
   ]
  },
  {
   "cell_type": "code",
   "execution_count": 43,
   "id": "a7933511",
   "metadata": {
    "ExecuteTime": {
     "end_time": "2023-02-07T07:25:23.217524Z",
     "start_time": "2023-02-07T07:25:23.211154Z"
    }
   },
   "outputs": [],
   "source": [
    "blacklist.extend(one_unique)"
   ]
  },
  {
   "cell_type": "code",
   "execution_count": 44,
   "id": "349b4732",
   "metadata": {
    "ExecuteTime": {
     "end_time": "2023-02-07T07:25:23.777263Z",
     "start_time": "2023-02-07T07:25:23.748744Z"
    }
   },
   "outputs": [],
   "source": [
    "df = remove_cols(df, blacklist)"
   ]
  },
  {
   "cell_type": "code",
   "execution_count": 45,
   "id": "cb54772f",
   "metadata": {
    "ExecuteTime": {
     "end_time": "2023-02-07T07:25:24.298051Z",
     "start_time": "2023-02-07T07:25:24.277259Z"
    }
   },
   "outputs": [
    {
     "data": {
      "text/plain": [
       "float64    213\n",
       "int64       12\n",
       "object       5\n",
       "dtype: int64"
      ]
     },
     "execution_count": 45,
     "metadata": {},
     "output_type": "execute_result"
    }
   ],
   "source": [
    "df.dtypes.value_counts()"
   ]
  },
  {
   "cell_type": "markdown",
   "id": "784c8582",
   "metadata": {},
   "source": [
    "# Quasi Constant values\n",
    "remove quasi constant features - features where majority of entries are one number/class"
   ]
  },
  {
   "cell_type": "code",
   "execution_count": 46,
   "id": "1aa6519b",
   "metadata": {
    "ExecuteTime": {
     "end_time": "2023-02-07T07:25:26.876771Z",
     "start_time": "2023-02-07T07:25:26.793964Z"
    }
   },
   "outputs": [
    {
     "data": {
      "text/plain": [
       "VarianceThreshold(threshold=0.01)"
      ]
     },
     "execution_count": 46,
     "metadata": {},
     "output_type": "execute_result"
    }
   ],
   "source": [
    "def get_numerical_dataframe(df):\n",
    "    df_objects = df.select_dtypes(include='object')\n",
    "    nonnumerical_features = df_objects.columns.tolist()\n",
    "\n",
    "    numerical_df = df[[i for i in df.columns if i not in nonnumerical_features]]\n",
    "    return numerical_df\n",
    "\n",
    "\n",
    "df_numerical = get_numerical_dataframe(df)\n",
    "\n",
    "\n",
    "quasiModel=VarianceThreshold(threshold=0.01) #It will search for the features having 99% of same value in all samples.\n",
    "\n",
    "quasiModel.fit(df_numerical)"
   ]
  },
  {
   "cell_type": "code",
   "execution_count": 47,
   "id": "7f590963",
   "metadata": {
    "ExecuteTime": {
     "end_time": "2023-02-07T07:25:27.469081Z",
     "start_time": "2023-02-07T07:25:27.457525Z"
    }
   },
   "outputs": [],
   "source": [
    "quasiArr=quasiModel.get_support()\n",
    "quasiCols=[col for col in df_numerical.columns if col not in df_numerical.columns[quasiArr]]"
   ]
  },
  {
   "cell_type": "code",
   "execution_count": 48,
   "id": "03dcc073",
   "metadata": {
    "ExecuteTime": {
     "end_time": "2023-02-07T07:25:29.103521Z",
     "start_time": "2023-02-07T07:25:29.093061Z"
    }
   },
   "outputs": [
    {
     "data": {
      "text/plain": [
       "['FEATURE_54',\n",
       " 'FEATURE_57',\n",
       " 'FEATURE_132',\n",
       " 'FEATURE_191',\n",
       " 'FEATURE_230',\n",
       " 'FEATURE_254',\n",
       " 'FEATURE_361']"
      ]
     },
     "execution_count": 48,
     "metadata": {},
     "output_type": "execute_result"
    }
   ],
   "source": [
    "quasiCols"
   ]
  },
  {
   "cell_type": "code",
   "execution_count": 49,
   "id": "5175ce89",
   "metadata": {
    "ExecuteTime": {
     "end_time": "2023-02-07T07:25:29.682906Z",
     "start_time": "2023-02-07T07:25:29.678055Z"
    }
   },
   "outputs": [],
   "source": [
    "blacklist.extend(quasiCols)"
   ]
  },
  {
   "cell_type": "code",
   "execution_count": 50,
   "id": "a692ff6b",
   "metadata": {
    "ExecuteTime": {
     "end_time": "2023-02-07T07:25:30.259306Z",
     "start_time": "2023-02-07T07:25:30.239312Z"
    }
   },
   "outputs": [],
   "source": [
    "df = remove_cols(df, blacklist)"
   ]
  },
  {
   "cell_type": "code",
   "execution_count": 51,
   "id": "fe241b5e",
   "metadata": {
    "ExecuteTime": {
     "end_time": "2023-02-07T07:25:30.769231Z",
     "start_time": "2023-02-07T07:25:30.761093Z"
    }
   },
   "outputs": [
    {
     "data": {
      "text/plain": [
       "float64    212\n",
       "int64        6\n",
       "object       5\n",
       "dtype: int64"
      ]
     },
     "execution_count": 51,
     "metadata": {},
     "output_type": "execute_result"
    }
   ],
   "source": [
    "df.dtypes.value_counts()"
   ]
  },
  {
   "cell_type": "markdown",
   "id": "ec2ac6ff",
   "metadata": {},
   "source": [
    "# Duplicated columns\n",
    "\n",
    "remove duplicated columns - since it does not give any info for the model"
   ]
  },
  {
   "cell_type": "code",
   "execution_count": 52,
   "id": "460f4956",
   "metadata": {
    "ExecuteTime": {
     "end_time": "2023-02-07T07:25:32.840812Z",
     "start_time": "2023-02-07T07:25:32.834358Z"
    }
   },
   "outputs": [],
   "source": [
    "def get_duplicated_cols(df):\n",
    "    df_T = df.T\n",
    "    print(f'number of duplicated cols = {df_T.duplicated().sum()}')\n",
    "    new_df = df_T.drop_duplicates(keep='first').T\n",
    "    duplicated_cols = [dup_col for dup_col in df.columns if dup_col not in new_df.columns]\n",
    "    return duplicated_cols"
   ]
  },
  {
   "cell_type": "code",
   "execution_count": 53,
   "id": "936b44bc",
   "metadata": {
    "ExecuteTime": {
     "end_time": "2023-02-07T07:25:39.616921Z",
     "start_time": "2023-02-07T07:25:33.380747Z"
    }
   },
   "outputs": [
    {
     "name": "stdout",
     "output_type": "stream",
     "text": [
      "number of duplicated cols = 1\n"
     ]
    }
   ],
   "source": [
    "duplicated_cols = get_duplicated_cols(df)\n",
    "blacklist.extend(duplicated_cols)"
   ]
  },
  {
   "cell_type": "code",
   "execution_count": 54,
   "id": "b58c585e",
   "metadata": {
    "ExecuteTime": {
     "end_time": "2023-02-07T07:25:39.764762Z",
     "start_time": "2023-02-07T07:25:39.753263Z"
    }
   },
   "outputs": [],
   "source": [
    "df = remove_cols(df, blacklist)"
   ]
  },
  {
   "cell_type": "code",
   "execution_count": 55,
   "id": "0816f79d",
   "metadata": {
    "ExecuteTime": {
     "end_time": "2023-02-07T07:25:39.895690Z",
     "start_time": "2023-02-07T07:25:39.892051Z"
    }
   },
   "outputs": [
    {
     "data": {
      "text/plain": [
       "(20138, 222)"
      ]
     },
     "execution_count": 55,
     "metadata": {},
     "output_type": "execute_result"
    }
   ],
   "source": [
    "df.shape"
   ]
  },
  {
   "cell_type": "markdown",
   "id": "3420ea6d",
   "metadata": {},
   "source": [
    "# Correlated Features\n",
    "remove highly correlated features"
   ]
  },
  {
   "cell_type": "code",
   "execution_count": 56,
   "id": "2075cecf",
   "metadata": {
    "ExecuteTime": {
     "end_time": "2023-02-07T07:25:41.560780Z",
     "start_time": "2023-02-07T07:25:40.030328Z"
    }
   },
   "outputs": [],
   "source": [
    "numerical_df = get_numerical_dataframe(df)\n",
    "correlation_matrix = numerical_df.corr()"
   ]
  },
  {
   "cell_type": "code",
   "execution_count": 57,
   "id": "9615f3ce",
   "metadata": {
    "ExecuteTime": {
     "end_time": "2023-02-07T07:25:41.747491Z",
     "start_time": "2023-02-07T07:25:41.732858Z"
    }
   },
   "outputs": [
    {
     "data": {
      "text/html": [
       "<div>\n",
       "<style scoped>\n",
       "    .dataframe tbody tr th:only-of-type {\n",
       "        vertical-align: middle;\n",
       "    }\n",
       "\n",
       "    .dataframe tbody tr th {\n",
       "        vertical-align: top;\n",
       "    }\n",
       "\n",
       "    .dataframe thead th {\n",
       "        text-align: right;\n",
       "    }\n",
       "</style>\n",
       "<table border=\"1\" class=\"dataframe\">\n",
       "  <thead>\n",
       "    <tr style=\"text-align: right;\">\n",
       "      <th></th>\n",
       "      <th>FEATURE_1</th>\n",
       "      <th>FEATURE_2</th>\n",
       "      <th>FEATURE_3</th>\n",
       "      <th>FEATURE_4</th>\n",
       "      <th>FEATURE_5</th>\n",
       "      <th>FEATURE_6</th>\n",
       "      <th>FEATURE_7</th>\n",
       "      <th>FEATURE_8</th>\n",
       "      <th>FEATURE_9</th>\n",
       "      <th>FEATURE_13</th>\n",
       "      <th>...</th>\n",
       "      <th>FEATURE_353</th>\n",
       "      <th>FEATURE_376</th>\n",
       "      <th>FEATURE_377</th>\n",
       "      <th>FEATURE_385</th>\n",
       "      <th>FEATURE_386</th>\n",
       "      <th>FEATURE_387</th>\n",
       "      <th>FEATURE_407</th>\n",
       "      <th>FEATURE_409</th>\n",
       "      <th>FEATURE_410</th>\n",
       "      <th>FEATURE_412</th>\n",
       "    </tr>\n",
       "  </thead>\n",
       "  <tbody>\n",
       "    <tr>\n",
       "      <th>FEATURE_1</th>\n",
       "      <td>1.000000</td>\n",
       "      <td>0.819727</td>\n",
       "      <td>0.092555</td>\n",
       "      <td>0.004071</td>\n",
       "      <td>0.001243</td>\n",
       "      <td>0.006318</td>\n",
       "      <td>0.000321</td>\n",
       "      <td>0.000908</td>\n",
       "      <td>0.000443</td>\n",
       "      <td>0.002472</td>\n",
       "      <td>...</td>\n",
       "      <td>0.001903</td>\n",
       "      <td>0.141034</td>\n",
       "      <td>0.004608</td>\n",
       "      <td>0.010035</td>\n",
       "      <td>0.010051</td>\n",
       "      <td>0.005980</td>\n",
       "      <td>-0.002548</td>\n",
       "      <td>0.000178</td>\n",
       "      <td>0.000215</td>\n",
       "      <td>0.000686</td>\n",
       "    </tr>\n",
       "    <tr>\n",
       "      <th>FEATURE_2</th>\n",
       "      <td>0.819727</td>\n",
       "      <td>1.000000</td>\n",
       "      <td>0.631573</td>\n",
       "      <td>0.002187</td>\n",
       "      <td>0.001296</td>\n",
       "      <td>0.007282</td>\n",
       "      <td>0.000382</td>\n",
       "      <td>0.001042</td>\n",
       "      <td>0.000521</td>\n",
       "      <td>0.002867</td>\n",
       "      <td>...</td>\n",
       "      <td>0.002216</td>\n",
       "      <td>0.000372</td>\n",
       "      <td>0.001401</td>\n",
       "      <td>0.010229</td>\n",
       "      <td>0.009163</td>\n",
       "      <td>0.005367</td>\n",
       "      <td>-0.012693</td>\n",
       "      <td>0.000204</td>\n",
       "      <td>0.000251</td>\n",
       "      <td>0.000722</td>\n",
       "    </tr>\n",
       "    <tr>\n",
       "      <th>FEATURE_3</th>\n",
       "      <td>0.092555</td>\n",
       "      <td>0.631573</td>\n",
       "      <td>1.000000</td>\n",
       "      <td>-0.001437</td>\n",
       "      <td>0.001076</td>\n",
       "      <td>0.005649</td>\n",
       "      <td>-0.000025</td>\n",
       "      <td>0.000548</td>\n",
       "      <td>0.000608</td>\n",
       "      <td>0.002654</td>\n",
       "      <td>...</td>\n",
       "      <td>0.001829</td>\n",
       "      <td>0.013295</td>\n",
       "      <td>-0.003227</td>\n",
       "      <td>0.006343</td>\n",
       "      <td>0.005579</td>\n",
       "      <td>0.004244</td>\n",
       "      <td>-0.012326</td>\n",
       "      <td>0.000234</td>\n",
       "      <td>0.000290</td>\n",
       "      <td>0.000634</td>\n",
       "    </tr>\n",
       "    <tr>\n",
       "      <th>FEATURE_4</th>\n",
       "      <td>0.004071</td>\n",
       "      <td>0.002187</td>\n",
       "      <td>-0.001437</td>\n",
       "      <td>1.000000</td>\n",
       "      <td>0.111275</td>\n",
       "      <td>0.212627</td>\n",
       "      <td>0.085541</td>\n",
       "      <td>0.143838</td>\n",
       "      <td>-0.003630</td>\n",
       "      <td>0.044353</td>\n",
       "      <td>...</td>\n",
       "      <td>0.045936</td>\n",
       "      <td>0.005358</td>\n",
       "      <td>0.128127</td>\n",
       "      <td>0.149507</td>\n",
       "      <td>0.146220</td>\n",
       "      <td>0.148914</td>\n",
       "      <td>0.028813</td>\n",
       "      <td>0.021582</td>\n",
       "      <td>0.009393</td>\n",
       "      <td>0.067500</td>\n",
       "    </tr>\n",
       "    <tr>\n",
       "      <th>FEATURE_5</th>\n",
       "      <td>0.001243</td>\n",
       "      <td>0.001296</td>\n",
       "      <td>0.001076</td>\n",
       "      <td>0.111275</td>\n",
       "      <td>1.000000</td>\n",
       "      <td>0.068014</td>\n",
       "      <td>0.003278</td>\n",
       "      <td>0.012134</td>\n",
       "      <td>-0.000364</td>\n",
       "      <td>-0.005568</td>\n",
       "      <td>...</td>\n",
       "      <td>0.007522</td>\n",
       "      <td>0.001561</td>\n",
       "      <td>0.025132</td>\n",
       "      <td>0.103165</td>\n",
       "      <td>0.121512</td>\n",
       "      <td>0.116190</td>\n",
       "      <td>-0.011410</td>\n",
       "      <td>0.000244</td>\n",
       "      <td>-0.001045</td>\n",
       "      <td>0.003424</td>\n",
       "    </tr>\n",
       "  </tbody>\n",
       "</table>\n",
       "<p>5 rows × 217 columns</p>\n",
       "</div>"
      ],
      "text/plain": [
       "           FEATURE_1  FEATURE_2  FEATURE_3  FEATURE_4  FEATURE_5  FEATURE_6  \\\n",
       "FEATURE_1   1.000000   0.819727   0.092555   0.004071   0.001243   0.006318   \n",
       "FEATURE_2   0.819727   1.000000   0.631573   0.002187   0.001296   0.007282   \n",
       "FEATURE_3   0.092555   0.631573   1.000000  -0.001437   0.001076   0.005649   \n",
       "FEATURE_4   0.004071   0.002187  -0.001437   1.000000   0.111275   0.212627   \n",
       "FEATURE_5   0.001243   0.001296   0.001076   0.111275   1.000000   0.068014   \n",
       "\n",
       "           FEATURE_7  FEATURE_8  FEATURE_9  FEATURE_13  ...  FEATURE_353  \\\n",
       "FEATURE_1   0.000321   0.000908   0.000443    0.002472  ...     0.001903   \n",
       "FEATURE_2   0.000382   0.001042   0.000521    0.002867  ...     0.002216   \n",
       "FEATURE_3  -0.000025   0.000548   0.000608    0.002654  ...     0.001829   \n",
       "FEATURE_4   0.085541   0.143838  -0.003630    0.044353  ...     0.045936   \n",
       "FEATURE_5   0.003278   0.012134  -0.000364   -0.005568  ...     0.007522   \n",
       "\n",
       "           FEATURE_376  FEATURE_377  FEATURE_385  FEATURE_386  FEATURE_387  \\\n",
       "FEATURE_1     0.141034     0.004608     0.010035     0.010051     0.005980   \n",
       "FEATURE_2     0.000372     0.001401     0.010229     0.009163     0.005367   \n",
       "FEATURE_3     0.013295    -0.003227     0.006343     0.005579     0.004244   \n",
       "FEATURE_4     0.005358     0.128127     0.149507     0.146220     0.148914   \n",
       "FEATURE_5     0.001561     0.025132     0.103165     0.121512     0.116190   \n",
       "\n",
       "           FEATURE_407  FEATURE_409  FEATURE_410  FEATURE_412  \n",
       "FEATURE_1    -0.002548     0.000178     0.000215     0.000686  \n",
       "FEATURE_2    -0.012693     0.000204     0.000251     0.000722  \n",
       "FEATURE_3    -0.012326     0.000234     0.000290     0.000634  \n",
       "FEATURE_4     0.028813     0.021582     0.009393     0.067500  \n",
       "FEATURE_5    -0.011410     0.000244    -0.001045     0.003424  \n",
       "\n",
       "[5 rows x 217 columns]"
      ]
     },
     "execution_count": 57,
     "metadata": {},
     "output_type": "execute_result"
    }
   ],
   "source": [
    "correlation_matrix.head()"
   ]
  },
  {
   "cell_type": "code",
   "execution_count": 58,
   "id": "05bac753",
   "metadata": {
    "ExecuteTime": {
     "end_time": "2023-02-07T07:25:41.919671Z",
     "start_time": "2023-02-07T07:25:41.915998Z"
    }
   },
   "outputs": [],
   "source": [
    "\n",
    "def get_highly_corr_feat(df, threshold=0.8):\n",
    "    \n",
    "    numerical_df = get_numerical_dataframe(df)\n",
    "    \n",
    "    corr_features = []\n",
    "    num_cols = numerical_df.shape[1]\n",
    "    \n",
    "    corr_features = set()\n",
    "    for i in range(0, num_cols):\n",
    "        for j in range(0, i):\n",
    "            if abs(correlation_matrix.iloc[i, j]) >= threshold:\n",
    "                corr_features.add(correlation_matrix.columns[i])\n",
    "    return corr_features\n",
    "    "
   ]
  },
  {
   "cell_type": "code",
   "execution_count": 59,
   "id": "18457070",
   "metadata": {
    "ExecuteTime": {
     "end_time": "2023-02-07T07:25:42.488450Z",
     "start_time": "2023-02-07T07:25:42.090271Z"
    }
   },
   "outputs": [],
   "source": [
    "corr_features = get_highly_corr_feat(df, threshold=Config.corr_tresh)"
   ]
  },
  {
   "cell_type": "code",
   "execution_count": 60,
   "id": "c0e88a51",
   "metadata": {
    "ExecuteTime": {
     "end_time": "2023-02-07T07:25:42.661019Z",
     "start_time": "2023-02-07T07:25:42.658414Z"
    }
   },
   "outputs": [
    {
     "data": {
      "text/plain": [
       "105"
      ]
     },
     "execution_count": 60,
     "metadata": {},
     "output_type": "execute_result"
    }
   ],
   "source": [
    "len(corr_features)"
   ]
  },
  {
   "cell_type": "code",
   "execution_count": 61,
   "id": "c1da1aa8",
   "metadata": {
    "ExecuteTime": {
     "end_time": "2023-02-07T07:25:42.829893Z",
     "start_time": "2023-02-07T07:25:42.827904Z"
    }
   },
   "outputs": [],
   "source": [
    "blacklist.extend(list(corr_features))"
   ]
  },
  {
   "cell_type": "code",
   "execution_count": 62,
   "id": "84f4cf47",
   "metadata": {
    "ExecuteTime": {
     "end_time": "2023-02-07T07:25:43.013236Z",
     "start_time": "2023-02-07T07:25:43.006160Z"
    }
   },
   "outputs": [],
   "source": [
    "df = remove_cols(df, blacklist)"
   ]
  },
  {
   "cell_type": "code",
   "execution_count": 63,
   "id": "6c85f283",
   "metadata": {
    "ExecuteTime": {
     "end_time": "2023-02-07T07:25:44.367791Z",
     "start_time": "2023-02-07T07:25:44.359294Z"
    }
   },
   "outputs": [
    {
     "data": {
      "text/plain": [
       "float64    107\n",
       "object       5\n",
       "int64        5\n",
       "dtype: int64"
      ]
     },
     "execution_count": 63,
     "metadata": {},
     "output_type": "execute_result"
    }
   ],
   "source": [
    "df.dtypes.value_counts()"
   ]
  },
  {
   "cell_type": "markdown",
   "id": "00ac60c2",
   "metadata": {},
   "source": [
    "# Dtypes object, fillna\n"
   ]
  },
  {
   "cell_type": "code",
   "execution_count": 64,
   "id": "7cd671de",
   "metadata": {
    "ExecuteTime": {
     "end_time": "2023-02-07T07:25:46.854906Z",
     "start_time": "2023-02-07T07:25:46.838722Z"
    }
   },
   "outputs": [
    {
     "data": {
      "text/html": [
       "<div>\n",
       "<style scoped>\n",
       "    .dataframe tbody tr th:only-of-type {\n",
       "        vertical-align: middle;\n",
       "    }\n",
       "\n",
       "    .dataframe tbody tr th {\n",
       "        vertical-align: top;\n",
       "    }\n",
       "\n",
       "    .dataframe thead th {\n",
       "        text-align: right;\n",
       "    }\n",
       "</style>\n",
       "<table border=\"1\" class=\"dataframe\">\n",
       "  <thead>\n",
       "    <tr style=\"text-align: right;\">\n",
       "      <th></th>\n",
       "      <th>FEATURE_27</th>\n",
       "      <th>FEATURE_33</th>\n",
       "      <th>FEATURE_106</th>\n",
       "      <th>FEATURE_121</th>\n",
       "      <th>FEATURE_300</th>\n",
       "    </tr>\n",
       "  </thead>\n",
       "  <tbody>\n",
       "    <tr>\n",
       "      <th>0</th>\n",
       "      <td>Category_1</td>\n",
       "      <td>Category_1</td>\n",
       "      <td>NaN</td>\n",
       "      <td>2022-10-28 15:55:51</td>\n",
       "      <td>Category_2</td>\n",
       "    </tr>\n",
       "    <tr>\n",
       "      <th>1</th>\n",
       "      <td>Category_2</td>\n",
       "      <td>Category_1</td>\n",
       "      <td>NaN</td>\n",
       "      <td>1969-12-12 06:43:12</td>\n",
       "      <td>Category_2</td>\n",
       "    </tr>\n",
       "    <tr>\n",
       "      <th>2</th>\n",
       "      <td>Category_1</td>\n",
       "      <td>Category_1</td>\n",
       "      <td>Y</td>\n",
       "      <td>2022-10-20 22:02:43</td>\n",
       "      <td>Category_1</td>\n",
       "    </tr>\n",
       "    <tr>\n",
       "      <th>3</th>\n",
       "      <td>Category_1</td>\n",
       "      <td>Category_1</td>\n",
       "      <td>Y</td>\n",
       "      <td>1969-12-12 06:43:12</td>\n",
       "      <td>Category_1</td>\n",
       "    </tr>\n",
       "    <tr>\n",
       "      <th>4</th>\n",
       "      <td>Category_1</td>\n",
       "      <td>Category_1</td>\n",
       "      <td>Y</td>\n",
       "      <td>1969-12-12 06:43:12</td>\n",
       "      <td>Category_2</td>\n",
       "    </tr>\n",
       "  </tbody>\n",
       "</table>\n",
       "</div>"
      ],
      "text/plain": [
       "   FEATURE_27  FEATURE_33 FEATURE_106          FEATURE_121 FEATURE_300\n",
       "0  Category_1  Category_1         NaN  2022-10-28 15:55:51  Category_2\n",
       "1  Category_2  Category_1         NaN  1969-12-12 06:43:12  Category_2\n",
       "2  Category_1  Category_1           Y  2022-10-20 22:02:43  Category_1\n",
       "3  Category_1  Category_1           Y  1969-12-12 06:43:12  Category_1\n",
       "4  Category_1  Category_1           Y  1969-12-12 06:43:12  Category_2"
      ]
     },
     "execution_count": 64,
     "metadata": {},
     "output_type": "execute_result"
    }
   ],
   "source": [
    "df_objects = df.select_dtypes(include='object')\n",
    "object_cols = [i for i in df_objects.columns if i != 'FEATURE_121']\n",
    "df_objects.head()"
   ]
  },
  {
   "cell_type": "code",
   "execution_count": 65,
   "id": "d5485e83",
   "metadata": {
    "ExecuteTime": {
     "end_time": "2023-02-07T07:25:47.521331Z",
     "start_time": "2023-02-07T07:25:47.483596Z"
    }
   },
   "outputs": [
    {
     "name": "stdout",
     "output_type": "stream",
     "text": [
      "Category_1    19604\n",
      "Category_2      451\n",
      "Category_3       83\n",
      "Name: FEATURE_27, dtype: int64\n",
      "\n",
      "Category_1    20108\n",
      "Category_2       25\n",
      "Name: FEATURE_33, dtype: int64\n",
      "\n",
      "Y    14295\n",
      "N       38\n",
      "Name: FEATURE_106, dtype: int64\n",
      "\n",
      "Category_2    12244\n",
      "Category_1     5440\n",
      "Name: FEATURE_300, dtype: int64\n",
      "\n"
     ]
    }
   ],
   "source": [
    "for col in object_cols:\n",
    "    print(df[col].value_counts())\n",
    "    print()"
   ]
  },
  {
   "cell_type": "code",
   "execution_count": 66,
   "id": "4207082c",
   "metadata": {
    "ExecuteTime": {
     "end_time": "2023-02-07T07:25:49.220072Z",
     "start_time": "2023-02-07T07:25:49.215547Z"
    }
   },
   "outputs": [],
   "source": [
    "blacklist.append('FEATURE_33')#feature_33 is hugely imbalanced - so better to remove it, since it almost like constant column"
   ]
  },
  {
   "cell_type": "code",
   "execution_count": 67,
   "id": "2b8ff177",
   "metadata": {
    "ExecuteTime": {
     "end_time": "2023-02-07T07:25:49.892130Z",
     "start_time": "2023-02-07T07:25:49.867947Z"
    }
   },
   "outputs": [],
   "source": [
    "df = remove_cols(df, blacklist)"
   ]
  },
  {
   "cell_type": "markdown",
   "id": "d6d613b6",
   "metadata": {},
   "source": [
    "## Fillna"
   ]
  },
  {
   "cell_type": "code",
   "execution_count": 68,
   "id": "92f5f3a1",
   "metadata": {
    "ExecuteTime": {
     "end_time": "2023-02-07T07:25:51.930178Z",
     "start_time": "2023-02-07T07:25:51.923206Z"
    }
   },
   "outputs": [],
   "source": [
    "df['FEATURE_106'].fillna('Y', inplace=True)#most of entries are Y, so lets just fill Nans with Y\n",
    "df['FEATURE_300'].fillna('Category_3', inplace=True)#no such imbalance, so let's fill nans with 3 extra class"
   ]
  },
  {
   "cell_type": "markdown",
   "id": "2a78e8ac",
   "metadata": {
    "ExecuteTime": {
     "end_time": "2023-02-07T14:22:26.755557Z",
     "start_time": "2023-02-07T14:22:26.148379Z"
    }
   },
   "source": []
  },
  {
   "cell_type": "markdown",
   "id": "7e14ec03",
   "metadata": {},
   "source": [
    "# Train\n",
    "\n",
    "So after feature selection and preprocessing, we can do training"
   ]
  },
  {
   "cell_type": "code",
   "execution_count": 46,
   "id": "4e9b7cac",
   "metadata": {
    "ExecuteTime": {
     "end_time": "2023-02-07T15:04:50.067699Z",
     "start_time": "2023-02-07T15:04:49.441043Z"
    }
   },
   "outputs": [],
   "source": [
    "import xgboost as xgb\n",
    "from metric import pfbeta\n",
    "import pandas as pd\n",
    "train = pd.read_csv('./utils/train_preprocessed.csv')\n",
    "val = pd.read_csv('./utils/val_preprocessed.csv')\n",
    "test = pd.read_csv('./utils/test_preprocessed.csv')"
   ]
  },
  {
   "cell_type": "code",
   "execution_count": 47,
   "id": "10b3546f",
   "metadata": {
    "ExecuteTime": {
     "end_time": "2023-02-07T15:04:52.675756Z",
     "start_time": "2023-02-07T15:04:52.661075Z"
    }
   },
   "outputs": [
    {
     "data": {
      "text/plain": [
       "(16110, 118)"
      ]
     },
     "execution_count": 47,
     "metadata": {},
     "output_type": "execute_result"
    }
   ],
   "source": [
    "train.shape"
   ]
  },
  {
   "cell_type": "code",
   "execution_count": null,
   "id": "58e029f6",
   "metadata": {},
   "outputs": [],
   "source": []
  },
  {
   "cell_type": "code",
   "execution_count": 28,
   "id": "51a7a6f8",
   "metadata": {
    "ExecuteTime": {
     "end_time": "2023-02-07T14:55:08.670338Z",
     "start_time": "2023-02-07T14:55:08.643798Z"
    }
   },
   "outputs": [],
   "source": [
    "y_train = train['TARGET']\n",
    "X_train = train.drop(['ID', 'TARGET', 'FEATURE_121'], axis=1)\n",
    "\n",
    "y_val = val['TARGET']\n",
    "X_val = val.drop(['ID', 'TARGET', 'FEATURE_121'], axis=1)\n",
    "\n",
    "X_test = test.drop(['ID', 'FEATURE_121'], axis=1)\n"
   ]
  },
  {
   "cell_type": "code",
   "execution_count": 17,
   "id": "13253867",
   "metadata": {
    "ExecuteTime": {
     "end_time": "2023-02-07T14:52:14.356296Z",
     "start_time": "2023-02-07T14:52:14.333855Z"
    }
   },
   "outputs": [],
   "source": []
  },
  {
   "cell_type": "code",
   "execution_count": 29,
   "id": "bfc13127",
   "metadata": {
    "ExecuteTime": {
     "end_time": "2023-02-07T14:59:12.888595Z",
     "start_time": "2023-02-07T14:55:11.393927Z"
    }
   },
   "outputs": [],
   "source": [
    "from sklearn.model_selection import GridSearchCV\n",
    "\n",
    "param_grid = {\n",
    "    \"max_depth\": [2, 3, 4],\n",
    "    \"learning_rate\": [0.1, 0.01, 0.05],\n",
    "    \"gamma\": [0, 0.25, 1],\n",
    "    \"reg_lambda\": [0, 1, 10],\n",
    "    \"scale_pos_weight\": [1, 3, 5],\n",
    "    \"subsample\": [0.8],\n",
    "    \"colsample_bytree\": [0.5],\n",
    "}\n",
    "\n",
    "\n",
    "xgb_cl = xgb.XGBClassifier(objective=\"binary:logistic\")\n",
    "\n",
    "grid_cv = GridSearchCV(xgb_cl, param_grid, n_jobs=-1, cv=3, scoring=\"average_precision\")\n",
    "\n",
    "_ = grid_cv.fit(X_train, y_train)"
   ]
  },
  {
   "cell_type": "code",
   "execution_count": 30,
   "id": "cc9d14bf",
   "metadata": {
    "ExecuteTime": {
     "end_time": "2023-02-07T14:59:28.645543Z",
     "start_time": "2023-02-07T14:59:28.634563Z"
    }
   },
   "outputs": [
    {
     "data": {
      "text/plain": [
       "0.7095490192008681"
      ]
     },
     "execution_count": 30,
     "metadata": {},
     "output_type": "execute_result"
    }
   ],
   "source": [
    "grid_cv.best_score_"
   ]
  },
  {
   "cell_type": "code",
   "execution_count": 31,
   "id": "39103f19",
   "metadata": {
    "ExecuteTime": {
     "end_time": "2023-02-07T14:59:30.530314Z",
     "start_time": "2023-02-07T14:59:30.518319Z"
    }
   },
   "outputs": [
    {
     "data": {
      "text/plain": [
       "{'colsample_bytree': 0.5,\n",
       " 'gamma': 0.25,\n",
       " 'learning_rate': 0.1,\n",
       " 'max_depth': 4,\n",
       " 'reg_lambda': 0,\n",
       " 'scale_pos_weight': 5,\n",
       " 'subsample': 0.8}"
      ]
     },
     "execution_count": 31,
     "metadata": {},
     "output_type": "execute_result"
    }
   ],
   "source": [
    "grid_cv.best_params_"
   ]
  },
  {
   "cell_type": "code",
   "execution_count": 32,
   "id": "275f2b2a",
   "metadata": {
    "ExecuteTime": {
     "end_time": "2023-02-07T14:59:33.810943Z",
     "start_time": "2023-02-07T14:59:32.978233Z"
    }
   },
   "outputs": [
    {
     "data": {
      "text/plain": [
       "XGBClassifier(base_score=0.5, booster='gbtree', colsample_bylevel=1,\n",
       "              colsample_bynode=1, colsample_bytree=0.5, gamma=0.25, gpu_id=-1,\n",
       "              importance_type='gain', interaction_constraints='',\n",
       "              learning_rate=0.1, max_delta_step=0, max_depth=4,\n",
       "              min_child_weight=1, missing=nan, monotone_constraints='()',\n",
       "              n_estimators=100, n_jobs=0, num_parallel_tree=1, random_state=0,\n",
       "              reg_alpha=0, reg_lambda=0, scale_pos_weight=5, subsample=0.8,\n",
       "              tree_method='exact', validate_parameters=1, verbosity=None)"
      ]
     },
     "execution_count": 32,
     "metadata": {},
     "output_type": "execute_result"
    }
   ],
   "source": [
    "xgb_cl = xgb.XGBClassifier(**grid_cv.best_params_)\n",
    "\n",
    "# Fit\n",
    "xgb_cl.fit(X_train, y_train)"
   ]
  },
  {
   "cell_type": "code",
   "execution_count": 33,
   "id": "b013cbfc",
   "metadata": {
    "ExecuteTime": {
     "end_time": "2023-02-07T14:59:34.558100Z",
     "start_time": "2023-02-07T14:59:34.523700Z"
    }
   },
   "outputs": [],
   "source": [
    "val_preds = xgb_cl.predict(X_val)"
   ]
  },
  {
   "cell_type": "code",
   "execution_count": 34,
   "id": "67232a23",
   "metadata": {
    "ExecuteTime": {
     "end_time": "2023-02-07T14:59:35.310544Z",
     "start_time": "2023-02-07T14:59:35.290603Z"
    }
   },
   "outputs": [
    {
     "data": {
      "text/plain": [
       "0.75"
      ]
     },
     "execution_count": 34,
     "metadata": {},
     "output_type": "execute_result"
    }
   ],
   "source": [
    "pfbeta(labels=y_val.to_numpy(), predictions=val_preds)"
   ]
  },
  {
   "cell_type": "code",
   "execution_count": 35,
   "id": "97125c6b",
   "metadata": {
    "ExecuteTime": {
     "end_time": "2023-02-07T14:59:38.067634Z",
     "start_time": "2023-02-07T14:59:38.015405Z"
    }
   },
   "outputs": [],
   "source": [
    "train_preds = xgb_cl.predict(X_train)"
   ]
  },
  {
   "cell_type": "code",
   "execution_count": 36,
   "id": "8a709e3d",
   "metadata": {
    "ExecuteTime": {
     "end_time": "2023-02-07T14:59:39.096472Z",
     "start_time": "2023-02-07T14:59:39.050540Z"
    }
   },
   "outputs": [
    {
     "data": {
      "text/plain": [
       "0.9818181818181818"
      ]
     },
     "execution_count": 36,
     "metadata": {},
     "output_type": "execute_result"
    }
   ],
   "source": [
    "pfbeta(labels=y_train.to_numpy(), predictions=train_preds)"
   ]
  },
  {
   "cell_type": "code",
   "execution_count": 40,
   "id": "5f72083e",
   "metadata": {
    "ExecuteTime": {
     "end_time": "2023-02-07T15:00:45.929774Z",
     "start_time": "2023-02-07T15:00:45.887884Z"
    }
   },
   "outputs": [],
   "source": [
    "preds_test = xgb_cl.predict(X_test)"
   ]
  },
  {
   "cell_type": "code",
   "execution_count": 41,
   "id": "f4ad9936",
   "metadata": {
    "ExecuteTime": {
     "end_time": "2023-02-07T15:00:49.741065Z",
     "start_time": "2023-02-07T15:00:49.733714Z"
    }
   },
   "outputs": [
    {
     "data": {
      "text/plain": [
       "array([0, 0, 0, ..., 0, 0, 0])"
      ]
     },
     "execution_count": 41,
     "metadata": {},
     "output_type": "execute_result"
    }
   ],
   "source": [
    "preds_test"
   ]
  },
  {
   "cell_type": "code",
   "execution_count": 44,
   "id": "c65ec9cc",
   "metadata": {
    "ExecuteTime": {
     "end_time": "2023-02-07T15:01:58.973921Z",
     "start_time": "2023-02-07T15:01:58.966815Z"
    }
   },
   "outputs": [],
   "source": [
    "test['TARGET'] = preds_test"
   ]
  },
  {
   "cell_type": "code",
   "execution_count": 45,
   "id": "2920d36a",
   "metadata": {
    "ExecuteTime": {
     "end_time": "2023-02-07T15:02:17.153070Z",
     "start_time": "2023-02-07T15:02:15.896732Z"
    }
   },
   "outputs": [],
   "source": [
    "#test.to_csv('test_predicted.csv', index=False)"
   ]
  },
  {
   "cell_type": "code",
   "execution_count": null,
   "id": "cf4a9db7",
   "metadata": {},
   "outputs": [],
   "source": []
  }
 ],
 "metadata": {
  "kernelspec": {
   "display_name": "Python 3",
   "language": "python",
   "name": "python3"
  },
  "language_info": {
   "codemirror_mode": {
    "name": "ipython",
    "version": 3
   },
   "file_extension": ".py",
   "mimetype": "text/x-python",
   "name": "python",
   "nbconvert_exporter": "python",
   "pygments_lexer": "ipython3",
   "version": "3.8.3"
  },
  "toc": {
   "base_numbering": 1,
   "nav_menu": {},
   "number_sections": true,
   "sideBar": true,
   "skip_h1_title": false,
   "title_cell": "Table of Contents",
   "title_sidebar": "Contents",
   "toc_cell": false,
   "toc_position": {},
   "toc_section_display": true,
   "toc_window_display": false
  },
  "varInspector": {
   "cols": {
    "lenName": 16,
    "lenType": 16,
    "lenVar": 40
   },
   "kernels_config": {
    "python": {
     "delete_cmd_postfix": "",
     "delete_cmd_prefix": "del ",
     "library": "var_list.py",
     "varRefreshCmd": "print(var_dic_list())"
    },
    "r": {
     "delete_cmd_postfix": ") ",
     "delete_cmd_prefix": "rm(",
     "library": "var_list.r",
     "varRefreshCmd": "cat(var_dic_list()) "
    }
   },
   "types_to_exclude": [
    "module",
    "function",
    "builtin_function_or_method",
    "instance",
    "_Feature"
   ],
   "window_display": false
  }
 },
 "nbformat": 4,
 "nbformat_minor": 5
}
